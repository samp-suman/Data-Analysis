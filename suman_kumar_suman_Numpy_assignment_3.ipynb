{
  "nbformat": 4,
  "nbformat_minor": 0,
  "metadata": {
    "colab": {
      "name": "suman_kumar_suman_Numpy_assignment_3.ipynb",
      "provenance": [],
      "include_colab_link": true
    },
    "kernelspec": {
      "display_name": "Python 3",
      "language": "python",
      "name": "python3"
    },
    "language_info": {
      "codemirror_mode": {
        "name": "ipython",
        "version": 3
      },
      "file_extension": ".py",
      "mimetype": "text/x-python",
      "name": "python",
      "nbconvert_exporter": "python",
      "pygments_lexer": "ipython3",
      "version": "3.7.1"
    }
  },
  "cells": [
    {
      "cell_type": "markdown",
      "metadata": {
        "id": "view-in-github",
        "colab_type": "text"
      },
      "source": [
        "<a href=\"https://colab.research.google.com/github/samp-suman/Data-Analysis/blob/master/suman_kumar_suman_Numpy_assignment_3.ipynb\" target=\"_parent\"><img src=\"https://colab.research.google.com/assets/colab-badge.svg\" alt=\"Open In Colab\"/></a>"
      ]
    },
    {
      "cell_type": "code",
      "metadata": {
        "colab_type": "code",
        "id": "31UwBw0bR-7I",
        "colab": {}
      },
      "source": [
        "import numpy as np"
      ],
      "execution_count": 0,
      "outputs": []
    },
    {
      "cell_type": "code",
      "metadata": {
        "colab_type": "code",
        "id": "85it8RniSD1i",
        "outputId": "53f6e004-352f-4f6f-a378-856e063d4e9a",
        "colab": {
          "base_uri": "https://localhost:8080/",
          "height": 156
        }
      },
      "source": [
        "# Setup for questions 1 and 2\n",
        "arr1=np.arange(40).reshape(8,5)\n",
        "arr1"
      ],
      "execution_count": 0,
      "outputs": [
        {
          "output_type": "execute_result",
          "data": {
            "text/plain": [
              "array([[ 0,  1,  2,  3,  4],\n",
              "       [ 5,  6,  7,  8,  9],\n",
              "       [10, 11, 12, 13, 14],\n",
              "       [15, 16, 17, 18, 19],\n",
              "       [20, 21, 22, 23, 24],\n",
              "       [25, 26, 27, 28, 29],\n",
              "       [30, 31, 32, 33, 34],\n",
              "       [35, 36, 37, 38, 39]])"
            ]
          },
          "metadata": {
            "tags": []
          },
          "execution_count": 3
        }
      ]
    },
    {
      "cell_type": "code",
      "metadata": {
        "colab_type": "code",
        "id": "0Nz1-qSdSOQ_",
        "colab": {}
      },
      "source": [
        "# Q1. From arr1 you have to fetch out every alternate column starting from col1"
      ],
      "execution_count": 0,
      "outputs": []
    },
    {
      "cell_type": "code",
      "metadata": {
        "colab_type": "code",
        "id": "rwmohc2SScHo",
        "colab": {}
      },
      "source": [
        "# Q2. From arr1 fetch an array which would contain {0,2,4} {15,17,19} and {30,32,34} "
      ],
      "execution_count": 0,
      "outputs": []
    },
    {
      "cell_type": "code",
      "metadata": {
        "colab_type": "code",
        "id": "r1gU_dQ4SsH7",
        "outputId": "2cb29837-8f6d-477c-dd42-0aac34d036bb",
        "colab": {
          "base_uri": "https://localhost:8080/",
          "height": 52
        }
      },
      "source": [
        "# Setup for question\n",
        "\n",
        "# Generating a random numpy array of intergers ranging between 1 and 10000\n",
        "\n",
        "arr2=np.random.randint(low=1, high=10000, size=10).reshape(2,5)\n",
        "arr2"
      ],
      "execution_count": 0,
      "outputs": [
        {
          "output_type": "execute_result",
          "data": {
            "text/plain": [
              "array([[7736, 5162, 2606, 3332, 4846],\n",
              "       [9000, 7109, 8375, 3615, 5048]])"
            ]
          },
          "metadata": {
            "tags": []
          },
          "execution_count": 6
        }
      ]
    },
    {
      "cell_type": "markdown",
      "metadata": {
        "colab_type": "text",
        "id": "VL_SIR70U2So"
      },
      "source": [
        " **Normalization** rescales the values into a range of [0,1]. This might be useful in some cases where all parameters need to have the same positive scale. You have to do this a lot in machine learning for eg you are working with 2 cols, one is total runs scored by a batsman(in the scale of 1000s), and the second is number of matches played by him(in the scale of 10s). The formula for normalization is given below\n",
        "\n",
        " Xchanged=(X−Xmin)/(Xmax−Xmin)"
      ]
    },
    {
      "cell_type": "code",
      "metadata": {
        "colab_type": "code",
        "id": "TI_idHqkUz48",
        "colab": {}
      },
      "source": [
        "# Q3. Write a code to normalize arr2."
      ],
      "execution_count": 0,
      "outputs": []
    },
    {
      "cell_type": "code",
      "metadata": {
        "colab_type": "code",
        "id": "GXcTZro_VXd_",
        "outputId": "c4a3018d-c8f8-4ceb-acab-dc38f7fc9042",
        "colab": {
          "base_uri": "https://localhost:8080/",
          "height": 35
        }
      },
      "source": [
        "np.percentile(arr1,25)"
      ],
      "execution_count": 0,
      "outputs": [
        {
          "output_type": "execute_result",
          "data": {
            "text/plain": [
              "9.75"
            ]
          },
          "metadata": {
            "tags": []
          },
          "execution_count": 10
        }
      ]
    },
    {
      "cell_type": "code",
      "metadata": {
        "colab_type": "code",
        "id": "jzgUb2rxWTJ1",
        "colab": {}
      },
      "source": [
        ""
      ],
      "execution_count": 0,
      "outputs": []
    },
    {
      "cell_type": "markdown",
      "metadata": {
        "colab_type": "text",
        "id": "cAKDoNdmW473"
      },
      "source": [
        "Missing values are a pain in the a**(sorry for language). But yes trust me."
      ]
    },
    {
      "cell_type": "code",
      "metadata": {
        "colab_type": "code",
        "id": "SV9DLiXaWz9b",
        "colab": {}
      },
      "source": [
        "# Q4. How would you check if your numpy array has some missing values?\n",
        "\n",
        "# Hint: Thoda research karo numpy me existing functions hai"
      ],
      "execution_count": 0,
      "outputs": []
    },
    {
      "cell_type": "code",
      "metadata": {
        "colab_type": "code",
        "id": "WWo9EXndXLrP",
        "colab": {}
      },
      "source": [
        "# Q5. Write a function which will accept 2 arguments.\n",
        "# First: A 1D numpy array arr\n",
        "# Second: An integer n {Please make sure n<=len(arr)}\n",
        "\n",
        "# Output: The output should be the nth largest item out of the array\n",
        "\n",
        "# Example1 : arr=(12,34,40,7,1,0) and n=3, the output should be 12\n",
        "# Example2 : arr=(12,34,40,7,1,0) and n=1, the output should be 40"
      ],
      "execution_count": 0,
      "outputs": []
    },
    {
      "cell_type": "markdown",
      "metadata": {
        "id": "ccug8xnv0H8h",
        "colab_type": "text"
      },
      "source": [
        "**[From Here Answer starts](https://)**"
      ]
    },
    {
      "cell_type": "code",
      "metadata": {
        "colab_type": "code",
        "id": "aOeEUd1LYRIF",
        "colab": {}
      },
      "source": [
        "#Q1. From arr1 you have to fetch out every alternate column starting from col1\n",
        "#ans1: \n",
        "#Using slicing in index \n",
        "q1=arr1[:,0::2]\n"
      ],
      "execution_count": 0,
      "outputs": []
    },
    {
      "cell_type": "code",
      "metadata": {
        "scrolled": true,
        "id": "U0NIy813z1Ax",
        "colab_type": "code",
        "colab": {},
        "outputId": "f9d10fb2-b549-42c5-bc07-b62635329814"
      },
      "source": [
        "q1"
      ],
      "execution_count": 0,
      "outputs": [
        {
          "output_type": "execute_result",
          "data": {
            "text/plain": [
              "array([[ 0,  2,  4],\n",
              "       [ 5,  7,  9],\n",
              "       [10, 12, 14],\n",
              "       [15, 17, 19],\n",
              "       [20, 22, 24],\n",
              "       [25, 27, 29],\n",
              "       [30, 32, 34],\n",
              "       [35, 37, 39]])"
            ]
          },
          "metadata": {
            "tags": []
          },
          "execution_count": 14
        }
      ]
    },
    {
      "cell_type": "code",
      "metadata": {
        "id": "5MewiCAnz1A0",
        "colab_type": "code",
        "colab": {},
        "outputId": "64f890a2-840d-4026-df83-891b0c45d2e4"
      },
      "source": [
        "arr1"
      ],
      "execution_count": 0,
      "outputs": [
        {
          "output_type": "execute_result",
          "data": {
            "text/plain": [
              "array([[ 0,  1,  2,  3,  4],\n",
              "       [ 5,  6,  7,  8,  9],\n",
              "       [10, 11, 12, 13, 14],\n",
              "       [15, 16, 17, 18, 19],\n",
              "       [20, 21, 22, 23, 24],\n",
              "       [25, 26, 27, 28, 29],\n",
              "       [30, 31, 32, 33, 34],\n",
              "       [35, 36, 37, 38, 39]])"
            ]
          },
          "metadata": {
            "tags": []
          },
          "execution_count": 7
        }
      ]
    },
    {
      "cell_type": "code",
      "metadata": {
        "id": "2b0kqu1fz1A3",
        "colab_type": "code",
        "colab": {},
        "outputId": "517956a8-2535-4837-d486-fb42bcf7a7dc"
      },
      "source": [
        "# Q2. From arr1 fetch an array which would contain {0,2,4} {15,17,19} and {30,32,34} \n",
        "#ans2: \n",
        "# {0,2,4}-- 1st,3nd and 5th column, that is alternate column from 1st col.\n",
        "# {0,15,30}-- 1st, 4th and 6th row, that is gap of 2 from 1st row\n",
        "# combining both will give our result\n",
        "q2=arr1[::3,::2]\n",
        "q2"
      ],
      "execution_count": 0,
      "outputs": [
        {
          "output_type": "execute_result",
          "data": {
            "text/plain": [
              "array([[ 0,  2,  4],\n",
              "       [15, 17, 19],\n",
              "       [30, 32, 34]])"
            ]
          },
          "metadata": {
            "tags": []
          },
          "execution_count": 15
        }
      ]
    },
    {
      "cell_type": "code",
      "metadata": {
        "id": "Ign7U7Bhz1A6",
        "colab_type": "code",
        "colab": {},
        "outputId": "f3b7ba08-909c-415f-c12c-9a35d3f6c717"
      },
      "source": [
        "# Setup for question\n",
        "\n",
        "# Generating a random numpy array of intergers ranging between 1 and 10000\n",
        "\n",
        "arr2=np.random.randint(low=1, high=10000, size=10).reshape(2,5)\n",
        "arr2"
      ],
      "execution_count": 0,
      "outputs": [
        {
          "output_type": "execute_result",
          "data": {
            "text/plain": [
              "array([[ 101, 4940, 9953, 6664, 7564],\n",
              "       [8982, 3831, 2377, 9009, 2629]])"
            ]
          },
          "metadata": {
            "tags": []
          },
          "execution_count": 41
        }
      ]
    },
    {
      "cell_type": "markdown",
      "metadata": {
        "colab_type": "text",
        "id": "a4rIRiEvz1A9"
      },
      "source": [
        " **Normalization** rescales the values into a range of [0,1]. This might be useful in some cases where all parameters need to have the same positive scale. You have to do this a lot in machine learning for eg you are working with 2 cols, one is total runs scored by a batsman(in the scale of 1000s), and the second is number of matches played by him(in the scale of 10s). The formula for normalization is given below\n",
        "\n",
        " Xchanged=(X−Xmin)/(Xmax−Xmin)"
      ]
    },
    {
      "cell_type": "code",
      "metadata": {
        "id": "A6_98-EOz1A-",
        "colab_type": "code",
        "colab": {},
        "outputId": "66c5a0cf-f749-48fa-8f70-86ff6eacfc1a"
      },
      "source": [
        "# Q3. Write a code to normalize arr2.\n",
        "# There are many method of Normalising-- simple, min-max, z-score or standard score\n",
        "# Here below i have done by method Simple Feature scaling that is-- Xnew=Xold/Xmax\n",
        "max=arr2.max()\n",
        "min=arr2.min()\n",
        "narray=arr2/max\n",
        "narray\n"
      ],
      "execution_count": 0,
      "outputs": [
        {
          "output_type": "execute_result",
          "data": {
            "text/plain": [
              "array([[0.01014769, 0.49633276, 1.        , 0.66954687, 0.75997187],\n",
              "       [0.90244147, 0.38490907, 0.23882247, 0.90515422, 0.26414146]])"
            ]
          },
          "metadata": {
            "tags": []
          },
          "execution_count": 42
        }
      ]
    },
    {
      "cell_type": "code",
      "metadata": {
        "id": "ZH_V5Z3Hz1BA",
        "colab_type": "code",
        "colab": {},
        "outputId": "5d0ab0ce-658d-4908-a2f9-f85de58d9ffb"
      },
      "source": [
        "# method 2:- \n",
        "# Ans:- Excepted answer for \n",
        "# Formula as given in above example explanation that is-- Xnew=(Xold-Xmin)/(Xmax-Xmin)\n",
        "# Min-Max method--\n",
        "mmarray=(arr2-min)/(max-min)\n",
        "mmarray"
      ],
      "execution_count": 0,
      "outputs": [
        {
          "output_type": "execute_result",
          "data": {
            "text/plain": [
              "array([[0.        , 0.49116931, 1.        , 0.66615916, 0.75751117],\n",
              "       [0.90144133, 0.37860333, 0.23101908, 0.90418189, 0.25659765]])"
            ]
          },
          "metadata": {
            "tags": []
          },
          "execution_count": 43
        }
      ]
    },
    {
      "cell_type": "code",
      "metadata": {
        "id": "82uRx4Ftz1BD",
        "colab_type": "code",
        "colab": {},
        "outputId": "e4f4febb-5e5b-4520-8bf1-aa635af59eee"
      },
      "source": [
        "# method 3(For normalisation):- Formula as given in above example explanation that is-- Xnew=(Xold-Mean)/(standard deviation)\n",
        "# Z - score Method or standard Method--\n",
        "\"\"\"This method is not considered for the above problen as this method is not used for normalise data in [0,1]\"\"\"\n",
        "mean=arr2.mean()\n",
        "std=arr2.std()\n",
        "zarray=(arr2-mean)/std\n",
        "zarray"
      ],
      "execution_count": 0,
      "outputs": [
        {
          "output_type": "execute_result",
          "data": {
            "text/plain": [
              "array([[-1.69035509, -0.01326406,  0.68130406, -0.53551278,  0.78144582],\n",
              "       [-0.08279645, -1.24255138,  0.81885727, -0.5283328 ,  1.81120541]])"
            ]
          },
          "metadata": {
            "tags": []
          },
          "execution_count": 14
        }
      ]
    },
    {
      "cell_type": "code",
      "metadata": {
        "id": "qAVHHpDkz1BG",
        "colab_type": "code",
        "colab": {}
      },
      "source": [
        ""
      ],
      "execution_count": 0,
      "outputs": []
    },
    {
      "cell_type": "code",
      "metadata": {
        "id": "4yc-40bOz1BK",
        "colab_type": "code",
        "colab": {}
      },
      "source": [
        "# Q4. How would you check if your numpy array has some missing values?\n",
        "\n",
        "# Hint: Thoda research karo numpy me existing functions hai\n",
        "#Ans4 - Research kr rhe hain \n",
        "# There is a function \"np.isnan()\".. but having problenm in passing arguments here like below\n",
        "# \"TypeError: ufunc 'isnan' not supported for the input types, \n",
        "#           and the inputs could not be safely coerced to any supported types according to the casting rule ''safe''\""
      ],
      "execution_count": 0,
      "outputs": []
    },
    {
      "cell_type": "code",
      "metadata": {
        "id": "aVLk_Ctez1BO",
        "colab_type": "code",
        "colab": {},
        "outputId": "0e0da366-2d47-429b-cac5-2b4439d74055"
      },
      "source": [
        "# Not as like isnan() but it check wether any dataa is missing or not\n",
        "def check(arr):\n",
        "    if np.nan in arr:\n",
        "        return print(\"missing values\")\n",
        "    else:\n",
        "        return print(\"no values missing\")\n",
        "check(narray)\n",
        "    "
      ],
      "execution_count": 0,
      "outputs": [
        {
          "output_type": "stream",
          "text": [
            "no values missing\n"
          ],
          "name": "stdout"
        }
      ]
    },
    {
      "cell_type": "code",
      "metadata": {
        "id": "1Km3DsCkz1BU",
        "colab_type": "code",
        "colab": {}
      },
      "source": [
        "ar8=[1,2,np.nan,np.nan,90,88.0,90.0,np.nan]"
      ],
      "execution_count": 0,
      "outputs": []
    },
    {
      "cell_type": "code",
      "metadata": {
        "id": "mYAxuQAAz1BW",
        "colab_type": "code",
        "colab": {},
        "outputId": "77d7c768-8b95-41b1-e041-0e3ed8e71c8c"
      },
      "source": [
        "check(ar8)"
      ],
      "execution_count": 0,
      "outputs": [
        {
          "output_type": "stream",
          "text": [
            "missing values\n"
          ],
          "name": "stdout"
        }
      ]
    },
    {
      "cell_type": "code",
      "metadata": {
        "id": "zG9MO1J1z1Bd",
        "colab_type": "code",
        "colab": {},
        "outputId": "443fedc7-1641-4e57-de1d-580f86a94756"
      },
      "source": [
        "# After research foud out this function return an boolean array, 'True' represents data is missing  \n",
        "\n",
        "np.isnan(ar8) # here worked bingo.."
      ],
      "execution_count": 0,
      "outputs": [
        {
          "output_type": "execute_result",
          "data": {
            "text/plain": [
              "array([False, False,  True,  True, False, False, False,  True])"
            ]
          },
          "metadata": {
            "tags": []
          },
          "execution_count": 32
        }
      ]
    },
    {
      "cell_type": "code",
      "metadata": {
        "id": "2_YzW-ggz1Bi",
        "colab_type": "code",
        "colab": {}
      },
      "source": [
        "# Q5. Write a function which will accept 2 arguments.\n",
        "# First: A 1D numpy array arr\n",
        "# Second: An integer n {Please make sure n<=len(arr)}\n",
        "\n",
        "# Output: The output should be the nth largest item out of the array\n",
        "\n",
        "# Example1 : arr=(12,34,40,7,1,0) and n=3, the output should be 12\n",
        "# Example2 : arr=(12,34,40,7,1,0) and n=1, the output should be 40"
      ],
      "execution_count": 0,
      "outputs": []
    },
    {
      "cell_type": "code",
      "metadata": {
        "id": "Q23D_kGiz1Bn",
        "colab_type": "code",
        "colab": {},
        "outputId": "7fd8fbf4-3a93-436e-efa5-31f5188d54bd"
      },
      "source": [
        "#ans5:\n",
        "#First sorted the array then return the last nth value of the array.\n",
        "#\n",
        "#\n",
        "def nthmax(arr,n):\n",
        "    if n<=len(arr):\n",
        "        arr.sort()\n",
        "        return arr[-n]\n",
        "    else:\n",
        "        raise IndexError('n should not exceed the length of the array {}, which is {}, \\n The value of n was: {}'.format(arr,len(arr),n))\n",
        "a1=np.array([10,18,11,45,78,32])\n",
        "nthmax(a1,4)"
      ],
      "execution_count": 0,
      "outputs": [
        {
          "output_type": "execute_result",
          "data": {
            "text/plain": [
              "18"
            ]
          },
          "metadata": {
            "tags": []
          },
          "execution_count": 38
        }
      ]
    },
    {
      "cell_type": "code",
      "metadata": {
        "id": "lj6fdDiez1Br",
        "colab_type": "code",
        "colab": {},
        "outputId": "0599f9fc-77be-4943-e85c-f9aec03060a6"
      },
      "source": [
        "#Test1:\n",
        "a2=np.array([12,34,40,7,1,0])\n",
        "nthmax(a2,3)"
      ],
      "execution_count": 0,
      "outputs": [
        {
          "output_type": "execute_result",
          "data": {
            "text/plain": [
              "12"
            ]
          },
          "metadata": {
            "tags": []
          },
          "execution_count": 39
        }
      ]
    },
    {
      "cell_type": "code",
      "metadata": {
        "id": "SpdaMzdTz1Bw",
        "colab_type": "code",
        "colab": {},
        "outputId": "da1db8fb-8120-4a4b-920b-9171ef7f723f"
      },
      "source": [
        "# Test2:\n",
        "a3=np.array([12,34,40,7,1,0])\n",
        "nthmax(a3,1)\n",
        "    "
      ],
      "execution_count": 0,
      "outputs": [
        {
          "output_type": "execute_result",
          "data": {
            "text/plain": [
              "40"
            ]
          },
          "metadata": {
            "tags": []
          },
          "execution_count": 40
        }
      ]
    },
    {
      "cell_type": "code",
      "metadata": {
        "id": "ggMiPH2mz1B1",
        "colab_type": "code",
        "colab": {}
      },
      "source": [
        ""
      ],
      "execution_count": 0,
      "outputs": []
    }
  ]
}
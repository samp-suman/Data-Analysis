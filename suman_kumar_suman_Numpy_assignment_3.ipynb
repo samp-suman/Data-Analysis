{
  "nbformat": 4,
  "nbformat_minor": 0,
  "metadata": {
    "colab": {
      "name": "suman_kumar_suman_Numpy_assignment_3.ipynb",
      "provenance": [],
      "collapsed_sections": [],
      "include_colab_link": true
    },
    "kernelspec": {
      "display_name": "Python 3",
      "language": "python",
      "name": "python3"
    },
    "language_info": {
      "codemirror_mode": {
        "name": "ipython",
        "version": 3
      },
      "file_extension": ".py",
      "mimetype": "text/x-python",
      "name": "python",
      "nbconvert_exporter": "python",
      "pygments_lexer": "ipython3",
      "version": "3.7.1"
    }
  },
  "cells": [
    {
      "cell_type": "markdown",
      "metadata": {
        "id": "view-in-github",
        "colab_type": "text"
      },
      "source": [
        "<a href=\"https://colab.research.google.com/github/samp-suman/Data-Analysis/blob/master/suman_kumar_suman_Numpy_assignment_3.ipynb\" target=\"_parent\"><img src=\"https://colab.research.google.com/assets/colab-badge.svg\" alt=\"Open In Colab\"/></a>"
      ]
    },
    {
      "cell_type": "code",
      "metadata": {
        "colab_type": "code",
        "id": "31UwBw0bR-7I",
        "colab": {}
      },
      "source": [
        "import numpy as np"
      ],
      "execution_count": 0,
      "outputs": []
    },
    {
      "cell_type": "code",
      "metadata": {
        "colab_type": "code",
        "id": "85it8RniSD1i",
        "outputId": "53f6e004-352f-4f6f-a378-856e063d4e9a",
        "colab": {
          "base_uri": "https://localhost:8080/",
          "height": 156
        }
      },
      "source": [
        "# Setup for questions 1 and 2\n",
        "arr1=np.arange(40).reshape(8,5)\n",
        "arr1"
      ],
      "execution_count": 0,
      "outputs": [
        {
          "output_type": "execute_result",
          "data": {
            "text/plain": [
              "array([[ 0,  1,  2,  3,  4],\n",
              "       [ 5,  6,  7,  8,  9],\n",
              "       [10, 11, 12, 13, 14],\n",
              "       [15, 16, 17, 18, 19],\n",
              "       [20, 21, 22, 23, 24],\n",
              "       [25, 26, 27, 28, 29],\n",
              "       [30, 31, 32, 33, 34],\n",
              "       [35, 36, 37, 38, 39]])"
            ]
          },
          "metadata": {
            "tags": []
          },
          "execution_count": 5
        }
      ]
    },
    {
      "cell_type": "code",
      "metadata": {
        "colab_type": "code",
        "id": "0Nz1-qSdSOQ_",
        "colab": {}
      },
      "source": [
        "# Q1. From arr1 you have to fetch out every alternate column starting from col1"
      ],
      "execution_count": 0,
      "outputs": []
    },
    {
      "cell_type": "code",
      "metadata": {
        "colab_type": "code",
        "id": "rwmohc2SScHo",
        "colab": {}
      },
      "source": [
        "# Q2. From arr1 fetch an array which would contain {0,2,4} {15,17,19} and {30,32,34} "
      ],
      "execution_count": 0,
      "outputs": []
    },
    {
      "cell_type": "code",
      "metadata": {
        "colab_type": "code",
        "id": "r1gU_dQ4SsH7",
        "outputId": "2cb29837-8f6d-477c-dd42-0aac34d036bb",
        "colab": {
          "base_uri": "https://localhost:8080/",
          "height": 52
        }
      },
      "source": [
        "# Setup for question\n",
        "\n",
        "# Generating a random numpy array of intergers ranging between 1 and 10000\n",
        "\n",
        "arr2=np.random.randint(low=1, high=10000, size=10).reshape(2,5)\n",
        "arr2"
      ],
      "execution_count": 0,
      "outputs": [
        {
          "output_type": "execute_result",
          "data": {
            "text/plain": [
              "array([[5014, 2779, 3728, 5753, 9628],\n",
              "       [3453, 8487, 7051, 1232, 8997]])"
            ]
          },
          "metadata": {
            "tags": []
          },
          "execution_count": 8
        }
      ]
    },
    {
      "cell_type": "markdown",
      "metadata": {
        "colab_type": "text",
        "id": "VL_SIR70U2So"
      },
      "source": [
        " **Normalization** rescales the values into a range of [0,1]. This might be useful in some cases where all parameters need to have the same positive scale. You have to do this a lot in machine learning for eg you are working with 2 cols, one is total runs scored by a batsman(in the scale of 1000s), and the second is number of matches played by him(in the scale of 10s). The formula for normalization is given below\n",
        "\n",
        " Xchanged=(X−Xmin)/(Xmax−Xmin)"
      ]
    },
    {
      "cell_type": "code",
      "metadata": {
        "colab_type": "code",
        "id": "TI_idHqkUz48",
        "colab": {}
      },
      "source": [
        "# Q3. Write a code to normalize arr2."
      ],
      "execution_count": 0,
      "outputs": []
    },
    {
      "cell_type": "code",
      "metadata": {
        "colab_type": "code",
        "id": "GXcTZro_VXd_",
        "outputId": "c4a3018d-c8f8-4ceb-acab-dc38f7fc9042",
        "colab": {
          "base_uri": "https://localhost:8080/",
          "height": 35
        }
      },
      "source": [
        "np.percentile(arr1,25)"
      ],
      "execution_count": 0,
      "outputs": [
        {
          "output_type": "execute_result",
          "data": {
            "text/plain": [
              "9.75"
            ]
          },
          "metadata": {
            "tags": []
          },
          "execution_count": 10
        }
      ]
    },
    {
      "cell_type": "code",
      "metadata": {
        "colab_type": "code",
        "id": "jzgUb2rxWTJ1",
        "colab": {}
      },
      "source": [
        ""
      ],
      "execution_count": 0,
      "outputs": []
    },
    {
      "cell_type": "markdown",
      "metadata": {
        "colab_type": "text",
        "id": "cAKDoNdmW473"
      },
      "source": [
        "Missing values are a pain in the a**(sorry for language). But yes trust me."
      ]
    },
    {
      "cell_type": "code",
      "metadata": {
        "colab_type": "code",
        "id": "SV9DLiXaWz9b",
        "colab": {}
      },
      "source": [
        "# Q4. How would you check if your numpy array has some missing values?\n",
        "\n",
        "# Hint: Thoda research karo numpy me existing functions hai"
      ],
      "execution_count": 0,
      "outputs": []
    },
    {
      "cell_type": "code",
      "metadata": {
        "colab_type": "code",
        "id": "WWo9EXndXLrP",
        "colab": {}
      },
      "source": [
        "# Q5. Write a function which will accept 2 arguments.\n",
        "# First: A 1D numpy array arr\n",
        "# Second: An integer n {Please make sure n<=len(arr)}\n",
        "\n",
        "# Output: The output should be the nth largest item out of the array\n",
        "\n",
        "# Example1 : arr=(12,34,40,7,1,0) and n=3, the output should be 12\n",
        "# Example2 : arr=(12,34,40,7,1,0) and n=1, the output should be 40"
      ],
      "execution_count": 0,
      "outputs": []
    },
    {
      "cell_type": "code",
      "metadata": {
        "colab_type": "code",
        "id": "aOeEUd1LYRIF",
        "colab": {}
      },
      "source": [
        "#Q1. From arr1 you have to fetch out every alternate column starting from col1\n",
        "#ans1:\n",
        "q1=arr1[:,0::2]\n"
      ],
      "execution_count": 0,
      "outputs": []
    },
    {
      "cell_type": "code",
      "metadata": {
        "id": "mCmpDHMpsRpN",
        "colab_type": "code",
        "colab": {},
        "outputId": "1047c90e-4cdc-42b1-af00-8ba00e0c6541"
      },
      "source": [
        "q1"
      ],
      "execution_count": 0,
      "outputs": [
        {
          "output_type": "execute_result",
          "data": {
            "text/plain": [
              "array([[ 0,  2,  4],\n",
              "       [ 5,  7,  9],\n",
              "       [10, 12, 14],\n",
              "       [15, 17, 19],\n",
              "       [20, 22, 24],\n",
              "       [25, 27, 29],\n",
              "       [30, 32, 34],\n",
              "       [35, 37, 39]])"
            ]
          },
          "metadata": {
            "tags": []
          },
          "execution_count": 14
        }
      ]
    },
    {
      "cell_type": "code",
      "metadata": {
        "id": "IKsm79OfsRpQ",
        "colab_type": "code",
        "colab": {},
        "outputId": "a9263376-cb89-4e07-efb8-223fbc0d7226"
      },
      "source": [
        "# Q2. From arr1 fetch an array which would contain {0,2,4} {15,17,19} and {30,32,34} \n",
        "#ans2: \n",
        "q2=arr1[::3,::2]\n",
        "q2"
      ],
      "execution_count": 0,
      "outputs": [
        {
          "output_type": "execute_result",
          "data": {
            "text/plain": [
              "array([[ 0,  2,  4],\n",
              "       [15, 17, 19],\n",
              "       [30, 32, 34]])"
            ]
          },
          "metadata": {
            "tags": []
          },
          "execution_count": 15
        }
      ]
    },
    {
      "cell_type": "code",
      "metadata": {
        "id": "a94zp52dsRpT",
        "colab_type": "code",
        "colab": {},
        "outputId": "2e3ea6fc-4f0b-412d-ec10-87d7af12ebfb"
      },
      "source": [
        "# Setup for question\n",
        "\n",
        "# Generating a random numpy array of intergers ranging between 1 and 10000\n",
        "\n",
        "arr2=np.random.randint(low=1, high=10000, size=10).reshape(2,5)\n",
        "arr2"
      ],
      "execution_count": 0,
      "outputs": [
        {
          "output_type": "execute_result",
          "data": {
            "text/plain": [
              "array([[3837,  439, 9200, 4435, 5095],\n",
              "       [4576, 1613,  452, 6872,  290]])"
            ]
          },
          "metadata": {
            "tags": []
          },
          "execution_count": 16
        }
      ]
    },
    {
      "cell_type": "markdown",
      "metadata": {
        "colab_type": "text",
        "id": "epKGgOgesRpV"
      },
      "source": [
        " **Normalization** rescales the values into a range of [0,1]. This might be useful in some cases where all parameters need to have the same positive scale. You have to do this a lot in machine learning for eg you are working with 2 cols, one is total runs scored by a batsman(in the scale of 1000s), and the second is number of matches played by him(in the scale of 10s). The formula for normalization is given below\n",
        "\n",
        " Xchanged=(X−Xmin)/(Xmax−Xmin)"
      ]
    },
    {
      "cell_type": "code",
      "metadata": {
        "id": "zKqiQbU2sRpW",
        "colab_type": "code",
        "colab": {},
        "outputId": "7a02d010-2de7-49d4-b8f2-bd0a99ef5b88"
      },
      "source": [
        "# Q3. Write a code to normalize arr2.\n",
        "#ans\n",
        "max=arr2.max()\n",
        "narray=arr2/max\n",
        "narray\n"
      ],
      "execution_count": 0,
      "outputs": [
        {
          "output_type": "execute_result",
          "data": {
            "text/plain": [
              "array([[0.41706522, 0.04771739, 1.        , 0.48206522, 0.55380435],\n",
              "       [0.4973913 , 0.17532609, 0.04913043, 0.74695652, 0.03152174]])"
            ]
          },
          "metadata": {
            "tags": []
          },
          "execution_count": 17
        }
      ]
    },
    {
      "cell_type": "code",
      "metadata": {
        "id": "sKBN5EOgsRpZ",
        "colab_type": "code",
        "colab": {}
      },
      "source": [
        "# Q4. How would you check if your numpy array has some missing values?\n",
        "\n",
        "# Hint: Thoda research karo numpy me existing functions hai\n",
        "#ans- Research kr rhe hain \n",
        "#there is a function \"np.isnan()\".. but having problenm in passing arguments here like below\n",
        "#TypeError: ufunc 'isnan' not supported for the input types, \n",
        "#           and the inputs could not be safely coerced to any supported types according to the casting rule ''safe''"
      ],
      "execution_count": 0,
      "outputs": []
    },
    {
      "cell_type": "code",
      "metadata": {
        "id": "TXxHat0qsRpc",
        "colab_type": "code",
        "colab": {},
        "outputId": "f9637eec-0ccf-477c-89ef-f5d6d418053e"
      },
      "source": [
        "def check(arr):\n",
        "    if np.nan in arr:\n",
        "        return print(\"missing values\")\n",
        "    else:\n",
        "        return print(\"no values missing\")\n",
        "check(narray)\n",
        "    "
      ],
      "execution_count": 0,
      "outputs": [
        {
          "output_type": "stream",
          "text": [
            "no values missing\n"
          ],
          "name": "stdout"
        }
      ]
    },
    {
      "cell_type": "code",
      "metadata": {
        "id": "KyP_Tey7sRpf",
        "colab_type": "code",
        "colab": {}
      },
      "source": [
        "ar8=[1,2,np.nan,np.nan,90,88.0,90.0,np.nan]"
      ],
      "execution_count": 0,
      "outputs": []
    },
    {
      "cell_type": "code",
      "metadata": {
        "id": "_SG7He6RsRpi",
        "colab_type": "code",
        "colab": {},
        "outputId": "3b6bcbfb-733d-4c92-979c-8745da3fa3ef"
      },
      "source": [
        "check(ar8)"
      ],
      "execution_count": 0,
      "outputs": [
        {
          "output_type": "stream",
          "text": [
            "missing values\n"
          ],
          "name": "stdout"
        }
      ]
    },
    {
      "cell_type": "code",
      "metadata": {
        "id": "LSEDUkTwsRpl",
        "colab_type": "code",
        "colab": {},
        "outputId": "f468b5e8-ec22-4c67-cdfe-500e1ee30bdb"
      },
      "source": [
        "np.isnan(ar8) # here worked bingo.."
      ],
      "execution_count": 0,
      "outputs": [
        {
          "output_type": "execute_result",
          "data": {
            "text/plain": [
              "array([False, False,  True,  True, False, False, False,  True])"
            ]
          },
          "metadata": {
            "tags": []
          },
          "execution_count": 32
        }
      ]
    },
    {
      "cell_type": "code",
      "metadata": {
        "id": "7Mi4Tg9TsRpq",
        "colab_type": "code",
        "colab": {}
      },
      "source": [
        "# Q5. Write a function which will accept 2 arguments.\n",
        "# First: A 1D numpy array arr\n",
        "# Second: An integer n {Please make sure n<=len(arr)}\n",
        "\n",
        "# Output: The output should be the nth largest item out of the array\n",
        "\n",
        "# Example1 : arr=(12,34,40,7,1,0) and n=3, the output should be 12\n",
        "# Example2 : arr=(12,34,40,7,1,0) and n=1, the output should be 40"
      ],
      "execution_count": 0,
      "outputs": []
    },
    {
      "cell_type": "code",
      "metadata": {
        "id": "nlBWWDjysRpv",
        "colab_type": "code",
        "colab": {},
        "outputId": "79682ef5-d06d-4839-d226-ee1220a0eff1"
      },
      "source": [
        "#ans5:\n",
        "def nthmax(arr,n):\n",
        "    arr.sort(reverse=True)\n",
        "    return arr[n-1]\n",
        "a1=[10,18,11,45,78,32]\n",
        "nthmax(a1,2)"
      ],
      "execution_count": 0,
      "outputs": [
        {
          "output_type": "execute_result",
          "data": {
            "text/plain": [
              "45"
            ]
          },
          "metadata": {
            "tags": []
          },
          "execution_count": 48
        }
      ]
    }
  ]
}
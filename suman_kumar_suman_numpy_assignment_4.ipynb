{
  "nbformat": 4,
  "nbformat_minor": 0,
  "metadata": {
    "colab": {
      "name": "suman_kumar_suman_numpy_assignment_4.ipynb",
      "provenance": [],
      "collapsed_sections": [],
      "include_colab_link": true
    },
    "kernelspec": {
      "display_name": "Python 3",
      "language": "python",
      "name": "python3"
    },
    "language_info": {
      "codemirror_mode": {
        "name": "ipython",
        "version": 3
      },
      "file_extension": ".py",
      "mimetype": "text/x-python",
      "name": "python",
      "nbconvert_exporter": "python",
      "pygments_lexer": "ipython3",
      "version": "3.7.1"
    }
  },
  "cells": [
    {
      "cell_type": "markdown",
      "metadata": {
        "id": "view-in-github",
        "colab_type": "text"
      },
      "source": [
        "<a href=\"https://colab.research.google.com/github/samp-suman/Data-Analysis/blob/master/suman_kumar_suman_numpy_assignment_4.ipynb\" target=\"_parent\"><img src=\"https://colab.research.google.com/assets/colab-badge.svg\" alt=\"Open In Colab\"/></a>"
      ]
    },
    {
      "cell_type": "code",
      "metadata": {
        "colab_type": "code",
        "id": "LYAs5f4MUyqX",
        "colab": {}
      },
      "source": [
        "import numpy as np"
      ],
      "execution_count": 0,
      "outputs": []
    },
    {
      "cell_type": "code",
      "metadata": {
        "colab_type": "code",
        "id": "kith96zaU3v4",
        "outputId": "b6e047b3-9c95-4a37-98fd-143b3c36ec3d",
        "colab": {
          "base_uri": "https://localhost:8080/",
          "height": 87
        }
      },
      "source": [
        "arr1=np.arange(20).reshape(4,5)\n",
        "arr1"
      ],
      "execution_count": 0,
      "outputs": [
        {
          "output_type": "execute_result",
          "data": {
            "text/plain": [
              "array([[ 0,  1,  2,  3,  4],\n",
              "       [ 5,  6,  7,  8,  9],\n",
              "       [10, 11, 12, 13, 14],\n",
              "       [15, 16, 17, 18, 19]])"
            ]
          },
          "metadata": {
            "tags": []
          },
          "execution_count": 109
        }
      ]
    },
    {
      "cell_type": "code",
      "metadata": {
        "colab_type": "code",
        "id": "hSQuEs7WVpXk",
        "colab": {},
        "outputId": "24a92d12-24f4-4838-d30b-804ac3e3c3e4"
      },
      "source": [
        "# Q1 Write a numpy code to swap col1([0,5,10,15]) with col4([3,8,13,18])\n",
        "# Hint----> Fancy Indexing\n",
        "#Ans1: \n",
        "arr1[:,[0,3]]=arr1[:,[3,0]]\n",
        "arr1"
      ],
      "execution_count": 0,
      "outputs": [
        {
          "output_type": "execute_result",
          "data": {
            "text/plain": [
              "array([[ 3,  1,  2,  0,  4],\n",
              "       [ 8,  6,  7,  5,  9],\n",
              "       [13, 11, 12, 10, 14],\n",
              "       [18, 16, 17, 15, 19]])"
            ]
          },
          "metadata": {
            "tags": []
          },
          "execution_count": 110
        }
      ]
    },
    {
      "cell_type": "code",
      "metadata": {
        "colab_type": "code",
        "id": "qzrMoxJSWOEm",
        "colab": {},
        "outputId": "89661a8c-f489-419d-f9e2-894fbad27669"
      },
      "source": [
        "# Q2 Write a numpy code to reverse the rows of arr1\n",
        "# The output should be [15, 16, 17, 18, 19] as first row and [ 0,  1,  2,  3,  4] as last row\n",
        "#Ans2:-\n",
        "arr=arr1[-1::-1]\n",
        "arr"
      ],
      "execution_count": 0,
      "outputs": [
        {
          "output_type": "execute_result",
          "data": {
            "text/plain": [
              "array([[15, 16, 17, 18, 19],\n",
              "       [10, 11, 12, 13, 14],\n",
              "       [ 5,  6,  7,  8,  9],\n",
              "       [ 0,  1,  2,  3,  4]])"
            ]
          },
          "metadata": {
            "tags": []
          },
          "execution_count": 73
        }
      ]
    },
    {
      "cell_type": "code",
      "metadata": {
        "colab_type": "code",
        "id": "qU9DW6vQWivF",
        "outputId": "3d706bd7-c7aa-4c8e-a6a9-d39df165120b",
        "colab": {
          "base_uri": "https://localhost:8080/",
          "height": 69
        }
      },
      "source": [
        "arr2=np.array([[1,2,np.nan],[4,5,6],[np.nan,np.nan,9]])\n",
        "arr2"
      ],
      "execution_count": 0,
      "outputs": [
        {
          "output_type": "execute_result",
          "data": {
            "text/plain": [
              "array([[ 1.,  2., nan],\n",
              "       [ 4.,  5.,  6.],\n",
              "       [nan, nan,  9.]])"
            ]
          },
          "metadata": {
            "tags": []
          },
          "execution_count": 95
        }
      ]
    },
    {
      "cell_type": "code",
      "metadata": {
        "colab_type": "code",
        "id": "V9pLugRlXZCV",
        "colab": {},
        "outputId": "36c104fc-5d23-476a-beb1-5e6f7ed2d835"
      },
      "source": [
        "# Q3 Write a code to replace all the nan(missing values) of arr2 with the mean of arr2\n",
        "#Ans3:=\n",
        "#Using 'isnan()'' function with fancy indexing here and then replace it by mean(using 'mean()' function)\n",
        "arr2[np.isnan(arr2)]=arr2[~np.isnan(arr2)].mean()\n",
        "arr2"
      ],
      "execution_count": 0,
      "outputs": [
        {
          "output_type": "execute_result",
          "data": {
            "text/plain": [
              "array([[1. , 2. , 4.5],\n",
              "       [4. , 5. , 6. ],\n",
              "       [4.5, 4.5, 9. ]])"
            ]
          },
          "metadata": {
            "tags": []
          },
          "execution_count": 102
        }
      ]
    },
    {
      "cell_type": "code",
      "metadata": {
        "colab_type": "code",
        "id": "F3tUsOivZ6Wf",
        "outputId": "7c89d9c3-c3be-4866-d2e9-a3ba8f9c62c8",
        "colab": {
          "base_uri": "https://localhost:8080/",
          "height": 104
        }
      },
      "source": [
        "#For Q4\n",
        "\n",
        "arr3=np.random.randint(low=1,high=100,size=20).reshape(5,4)\n",
        "arr3"
      ],
      "execution_count": 0,
      "outputs": [
        {
          "output_type": "execute_result",
          "data": {
            "text/plain": [
              "array([[85,  4, 87, 52],\n",
              "       [14, 75, 30, 32],\n",
              "       [ 9, 79, 10, 11],\n",
              "       [61, 47, 69,  1],\n",
              "       [58, 33, 96, 54]])"
            ]
          },
          "metadata": {
            "tags": []
          },
          "execution_count": 9
        }
      ]
    },
    {
      "cell_type": "code",
      "metadata": {
        "colab_type": "code",
        "id": "HzeC03N6aQpx",
        "colab": {}
      },
      "source": [
        "# Q4 Write a code which can fetch all items from arr3 which are either greater than 25 or a multiple of 3\n",
        "#ANS3:---"
      ],
      "execution_count": 0,
      "outputs": []
    },
    {
      "cell_type": "code",
      "metadata": {
        "colab_type": "code",
        "id": "XFIUdkJmhWOH",
        "colab": {},
        "outputId": "7934cc25-5a5c-49a5-c287-aa0836c48cdf"
      },
      "source": [
        "#Ans4:using fancy indexing (boolean type) applyin two contion at a time\n",
        "\n",
        "arr3[(arr3>25) & (arr3%3==0)]"
      ],
      "execution_count": 0,
      "outputs": [
        {
          "output_type": "execute_result",
          "data": {
            "text/plain": [
              "array([87, 75, 30, 69, 33, 96, 54])"
            ]
          },
          "metadata": {
            "tags": []
          },
          "execution_count": 14
        }
      ]
    },
    {
      "cell_type": "code",
      "metadata": {
        "colab_type": "code",
        "id": "PxcxU2ACa9Ri",
        "colab": {}
      },
      "source": [
        "# Q5 Write a code to find the 10th, 25th, 50th(median) percentile of arr3\n",
        "# Percentiles are a very important concept in Statistics. If you don't know about it refer the video below\n",
        "# https://www.youtube.com/watch?v=Snf6Wpn-L4c\n",
        "# Hint: to solve this function google np.percentile()\n",
        "\n",
        "#Ans5:\n",
        "#Here is percentile function similar like numpy.percentile(...), in numpy there are differten method of interpolation\n",
        "#here is use only one that is midpoint one.\n",
        "def percentile(a,n):\n",
        "    \n",
        "    \n",
        "    a=np.ravel(a)\n",
        "    a.sort()\n",
        "    #rank of the value which are at n percentile, it may result in fractional thats why we have to\n",
        "    #figure out how to solve, for that there are different methods, here i used 'midpoint' one. others are 'linear','lower,'upper'.\n",
        "    p=(n*(np.size(a)+1)/100)   \n",
        "    if p%1==0:\n",
        "        return a[int(p-1)]\n",
        "    #The midpoint method is applied here, it results in avg of the two sorrounded value of the rank(p).\n",
        "    else:                    \n",
        "        return (a[int(p-1)]+a[int(p)])/2"
      ],
      "execution_count": 0,
      "outputs": []
    },
    {
      "cell_type": "code",
      "metadata": {
        "id": "y-MlEGL7KbeD",
        "colab_type": "code",
        "colab": {},
        "outputId": "a365859c-f4a6-4f75-8eac-44dd2ebeff2e"
      },
      "source": [
        "p10=percentile(arr3,10)\n",
        "p25=percentile(arr3,25)\n",
        "p50=percentile(arr3,50)\n",
        "p=[p10,p25,p50]\n",
        "p"
      ],
      "execution_count": 0,
      "outputs": [
        {
          "output_type": "execute_result",
          "data": {
            "text/plain": [
              "[6.5, 12.5, 49.5]"
            ]
          },
          "metadata": {
            "tags": []
          },
          "execution_count": 185
        }
      ]
    },
    {
      "cell_type": "code",
      "metadata": {
        "colab_type": "code",
        "id": "_8moTHWYcDCt",
        "colab": {},
        "outputId": "652676ea-bf31-47c5-c47b-10ef6da0a83d"
      },
      "source": [
        "#Ans5:using numpy percentile function\n",
        "\n",
        "p10=np.percentile(arr3,10,interpolation='midpoint')\n",
        "p25=np.percentile(arr3,25,interpolation='midpoint')\n",
        "p50=np.percentile(arr3,50,interpolation='midpoint')\n",
        "print(\"P10th=\",p10,\"P25th=\",p25,\"P50th=\",p50)"
      ],
      "execution_count": 0,
      "outputs": [
        {
          "output_type": "stream",
          "text": [
            "P10th= 6.5 P25th= 12.5 P50th= 49.5\n"
          ],
          "name": "stdout"
        }
      ]
    },
    {
      "cell_type": "code",
      "metadata": {
        "id": "KCK1RTy_KbeJ",
        "colab_type": "code",
        "colab": {}
      },
      "source": [
        ""
      ],
      "execution_count": 0,
      "outputs": []
    },
    {
      "cell_type": "code",
      "metadata": {
        "id": "2futQAV_KbeL",
        "colab_type": "code",
        "colab": {}
      },
      "source": [
        ""
      ],
      "execution_count": 0,
      "outputs": []
    },
    {
      "cell_type": "code",
      "metadata": {
        "id": "wIFu29Y_KbeO",
        "colab_type": "code",
        "colab": {}
      },
      "source": [
        ""
      ],
      "execution_count": 0,
      "outputs": []
    }
  ]
}
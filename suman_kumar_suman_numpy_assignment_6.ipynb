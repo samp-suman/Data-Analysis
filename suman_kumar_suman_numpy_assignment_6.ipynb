{
  "nbformat": 4,
  "nbformat_minor": 0,
  "metadata": {
    "colab": {
      "name": "suman kumar suman - numpy-assignment-6.ipynb",
      "provenance": [],
      "collapsed_sections": [],
      "include_colab_link": true
    },
    "kernelspec": {
      "name": "python3",
      "display_name": "Python 3"
    }
  },
  "cells": [
    {
      "cell_type": "markdown",
      "metadata": {
        "id": "view-in-github",
        "colab_type": "text"
      },
      "source": [
        "<a href=\"https://colab.research.google.com/github/samp-suman/Data-Analysis/blob/master/suman_kumar_suman_numpy_assignment_6.ipynb\" target=\"_parent\"><img src=\"https://colab.research.google.com/assets/colab-badge.svg\" alt=\"Open In Colab\"/></a>"
      ]
    },
    {
      "cell_type": "code",
      "metadata": {
        "id": "6PAefYSKHONH",
        "colab_type": "code",
        "colab": {}
      },
      "source": [
        "# You have write a function which takes 2 numpy array as input and returns \"Hoga\" or \"Nahi Hoga\" \n",
        "# depending on if broadcasting is possible on those two arrays"
      ],
      "execution_count": 0,
      "outputs": []
    },
    {
      "cell_type": "code",
      "metadata": {
        "id": "LtPSvg-4HjEv",
        "colab_type": "code",
        "colab": {}
      },
      "source": [
        "# Write your logic here : \n",
        "# 1--- this is based on error capturing if on broadcasting gives error or not.\n",
        "import numpy as np\n",
        "def hoga_ki_nahi(arr1,arr2):\n",
        "  try:\n",
        "    arr1+arr2\n",
        "    return \"Hoga\"\n",
        "  except ValueError:\n",
        "    return \"Nahi Hoga\"\n",
        " # return #\"Hoga\"/\"Nahi Hoga\""
      ],
      "execution_count": 0,
      "outputs": []
    },
    {
      "cell_type": "markdown",
      "metadata": {
        "id": "I5iMW9OpD-Q9",
        "colab_type": "text"
      },
      "source": [
        "# Here used the rule of broadcasting -- \n",
        " **For 2-D arrays:**   their shapes are equal, or one of them is 1\n",
        " \n",
        " **For other** : 1- There shapes should be equal element-wise\n",
        "            2- If not equal then it should be 1 in on of the arrays.*(eg. shape(a)=(2,1,9,2) shape(b)=(2,7,1,2) )* \n",
        "             3- if of different dimension shape should be equal(* shape of lower dimension array should be equal to dimn of other from last) or \n",
        "                 like rule 2 *(eg.- shape(a)=(2,1,9,2) shape(b)=(9,2) or even if shape(b)=(9,1) or (1,2) they will broadcast )*"
      ]
    },
    {
      "cell_type": "code",
      "metadata": {
        "id": "jz_2U5LRH2xy",
        "colab_type": "code",
        "colab": {}
      },
      "source": [
        "# 2--- \n",
        "\n",
        "def broadcast(ar1,ar2):\n",
        "    d1=np.ndim(ar1)\n",
        "    d2=np.ndim(ar2)\n",
        "    s1=np.shape(ar1)\n",
        "    s2=np.shape(ar2)\n",
        "    if s1==s2:\n",
        "        return \"Hogia\"\n",
        "    else:\n",
        "        for i in range(min(d1,d2)):\n",
        "            if s1[-1-i]!=s2[-1-i]:\n",
        "                if s1[-1-i]==1 or s2[-1-i]==1:\n",
        "                    continue\n",
        "                else:\n",
        "                    return \"Nahi hoga\"\n",
        "            else:\n",
        "                continue\n",
        "        return \"Hoiga\""
      ],
      "execution_count": 0,
      "outputs": []
    },
    {
      "cell_type": "code",
      "metadata": {
        "id": "BGp93pIEHsOG",
        "colab_type": "code",
        "outputId": "73f2179e-ae93-4ebb-b082-39ddbe5c6da6",
        "colab": {
          "base_uri": "https://localhost:8080/",
          "height": 52
        }
      },
      "source": [
        "a2=np.arange(56).reshape(4,7,2,1)\n",
        "a1=np.arange(2).reshape(2,1) # here shape is 2,1 and of above one(a2) 4,7,2,1 have two shapes in equal (2,1) sequencially from last.\n",
        "\n",
        "print(hoga_ki_nahi(a1,a2))\n",
        "print(broadcast(a1,a2))"
      ],
      "execution_count": 0,
      "outputs": [
        {
          "output_type": "stream",
          "text": [
            "Hoga\n",
            "Hoiga\n"
          ],
          "name": "stdout"
        }
      ]
    },
    {
      "cell_type": "markdown",
      "metadata": {
        "id": "yVWpC_Lf9PDt",
        "colab_type": "text"
      },
      "source": [
        "1-*shape(a1)=(2,1) and shape(a2)=(4,7,2,1)\n",
        "Here shape is 2,1 and of above one(a2) 4,7,2,1 have two shapes in equal (2,1) sequencially from last so, here broadcast will be \"Hoga\"\n",
        "\n",
        "2- If shape of x and y be like -- x=(2,3) and y=(4,2,3,7) \n",
        "here also 2,3 is in common in booth but not sequencilly from last. In y last two is (3,7) and in x is (2,3),\n",
        "so here broadcasting \"Nahi Hoga\"\n",
        "\n",
        "3- If shape of p and q be like -- p=(3,1,5,1) and q=(3,2,1,7) \n",
        "here shape is no equal sequencially ie.- only 1st position is equal that is 3\n",
        "others are not but in other there is 1 either in p or q\n",
        "so here broadcasting \"Hoga\""
      ]
    },
    {
      "cell_type": "code",
      "metadata": {
        "id": "-OtlRIrH2fRT",
        "colab_type": "code",
        "outputId": "15655c21-de4c-44ea-d8ac-d72587be6b87",
        "colab": {
          "base_uri": "https://localhost:8080/",
          "height": 52
        }
      },
      "source": [
        "y=np.arange(168).reshape(4,2,3,7)\n",
        "x=np.arange(6).reshape(2,3)\n",
        "\n",
        "print(hoga_ki_nahi(x,y))\n",
        "print(broadcast(x,y))"
      ],
      "execution_count": 0,
      "outputs": [
        {
          "output_type": "stream",
          "text": [
            "Nahi Hoga\n",
            "Nahi hoga\n"
          ],
          "name": "stdout"
        }
      ]
    },
    {
      "cell_type": "code",
      "metadata": {
        "id": "DgtfAwZA2lSx",
        "colab_type": "code",
        "outputId": "85115c72-4f7e-40e9-939e-6ce8b7127ff2",
        "colab": {
          "base_uri": "https://localhost:8080/",
          "height": 52
        }
      },
      "source": [
        "p=np.arange(15).reshape(3,1,5,1)\n",
        "q=np.arange(42).reshape(3,2,1,7)\n",
        "\n",
        "print(hoga_ki_nahi(p,q))\n",
        "print(broadcast(p,q))"
      ],
      "execution_count": 0,
      "outputs": [
        {
          "output_type": "stream",
          "text": [
            "Hoga\n",
            "Hoiga\n"
          ],
          "name": "stdout"
        }
      ]
    },
    {
      "cell_type": "code",
      "metadata": {
        "id": "uE_SC_lDAd4v",
        "colab_type": "code",
        "colab": {}
      },
      "source": [
        ""
      ],
      "execution_count": 0,
      "outputs": []
    }
  ]
}
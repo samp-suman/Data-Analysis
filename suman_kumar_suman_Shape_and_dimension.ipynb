{
  "nbformat": 4,
  "nbformat_minor": 0,
  "metadata": {
    "colab": {
      "name": "suman kumar suman - Shape-and-dimension.ipynb",
      "provenance": [],
      "collapsed_sections": [],
      "include_colab_link": true
    },
    "kernelspec": {
      "name": "python3",
      "display_name": "Python 3"
    }
  },
  "cells": [
    {
      "cell_type": "markdown",
      "metadata": {
        "id": "view-in-github",
        "colab_type": "text"
      },
      "source": [
        "<a href=\"https://colab.research.google.com/github/samp-suman/Data-Analysis/blob/master/suman_kumar_suman_Shape_and_dimension.ipynb\" target=\"_parent\"><img src=\"https://colab.research.google.com/assets/colab-badge.svg\" alt=\"Open In Colab\"/></a>"
      ]
    },
    {
      "cell_type": "markdown",
      "metadata": {
        "id": "KS3wCW3hFavq",
        "colab_type": "text"
      },
      "source": [
        "You have to write 2 functions after watching today's videos.\n",
        "\n",
        "1. The first function will accept a Numpy array and return it's shape.\n",
        "   Note:- You can't use the shape attribute\n",
        "   \n",
        "2. The second function will accept a Numpy array and return it's dimension.\n",
        "   Note:- You can't use the ndim attribute"
      ]
    },
    {
      "cell_type": "code",
      "metadata": {
        "id": "FVX4V9FmF8rt",
        "colab_type": "code",
        "colab": {}
      },
      "source": [
        "# Write 1st function here\n",
        "# Using numpy.size()\n",
        "def pshape(nparray):\n",
        "    shape=[]\n",
        "    d=dim(nparray)\n",
        "    for i in range(d):\n",
        "        shape.append(np.size(nparray,axis=i))\n",
        "    shape=tuple(shape)\n",
        "    return shape"
      ],
      "execution_count": 0,
      "outputs": []
    },
    {
      "cell_type": "code",
      "metadata": {
        "id": "R0KWz8gqGAXW",
        "colab_type": "code",
        "colab": {}
      },
      "source": [
        "# Write 2nd function here\n",
        "# Without using any numpy function\n",
        "def dim(n):\n",
        "    b=str(n)\n",
        "    di=0\n",
        "    for i in b:\n",
        "        if (i=='['):\n",
        "            di+=1\n",
        "            continue\n",
        "        else:\n",
        "            return di\n",
        "   "
      ],
      "execution_count": 0,
      "outputs": []
    },
    {
      "cell_type": "code",
      "metadata": {
        "id": "5xmTBXejGDeG",
        "colab_type": "code",
        "colab": {}
      },
      "source": [
        "#Another way for dimension using numpy.size() and error \n",
        "\n",
        "def dim(nparray):\n",
        "    try:\n",
        "        for i in range(np.size(nparray)):\n",
        "            np.size(nparray,axis=i)\n",
        "    except IndexError:\n",
        "            return i"
      ],
      "execution_count": 0,
      "outputs": []
    }
  ]
}